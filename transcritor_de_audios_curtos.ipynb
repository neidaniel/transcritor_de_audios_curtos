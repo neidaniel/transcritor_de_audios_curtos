{
  "nbformat": 4,
  "nbformat_minor": 0,
  "metadata": {
    "colab": {
      "provenance": [],
      "gpuType": "T4"
    },
    "kernelspec": {
      "name": "python3",
      "display_name": "Python 3"
    },
    "language_info": {
      "name": "python"
    },
    "accelerator": "GPU"
  },
  "cells": [
    {
      "cell_type": "markdown",
      "source": [
        "#Ferramenta de Transcrição de Áudios com Whisper\n",
        "Este projeto utiliza o poderoso modelo Whisper da OpenAI para transcrever automaticamente uma pasta inteira de arquivos de áudios curtos (como os do WhatsApp), organizando os resultados em uma tabela estruturada (.csv) pronta para análise.\n",
        "\n",
        "**Precisa saber o que foi dito em dezenas de mensagens de voz, mas não tem tempo para ouvir todas?**\n",
        "\n",
        "Esta ferramenta resolve esse problema, convertendo horas de áudio em texto pesquisável em questão de minutos.\n",
        "\n",
        "##Principais Funcionalidades:\n",
        "\n",
        "*   🤖 **Transcrição de Alta Precisão:** Utiliza os modelos de ponta da família Whisper da OpenAI, com a flexibilidade de escolher a versão que melhor se adapta às suas necessidades de velocidade e precisão.\n",
        "*   🧾  **Prompt de contexto:** Você pode melhorar a performance do modelo adicionando o contexto dos áudios através de um prompt.\n",
        "*   📊 **Saída Estruturada:** Organiza todas as transcrições em uma única tabela .csv, contendo o nome do arquivo, sua duração em segundos e o texto transcrito, ideal para análises futuras (como análise de sentimentos).\n",
        "*   🗑️ **Limpeza Inteligente de Duplicatas:** Antes de processar, o script verifica e oferece a opção de remover arquivos duplicados com base em seu conteúdo (usando hash MD5), economizando tempo e recursos.\n",
        "*   ⚙️ **Configuração Interativa:** Permite que o usuário defina parâmetros importantes durante a execução, como a escolha do modelo e a inclusão de um \"prompt\" para melhorar a precisão de termos específicos.\n",
        "\n",
        "##Como Usar:\n",
        "\n",
        "\n",
        "1.   **Configuração da Pasta:** Crie uma pasta no seu Google Drive (ex: audios_para_transcrever) e coloque nela todos os arquivos de áudio que deseja processar.\n",
        "2.   **Execução do Notebook:** Abra o script no Google Colab, conecte-se ao seu Google Drive e execute cada célula em ordem, seguindo as instruções interativas.\n",
        "\n",
        "Desenvolvido por: neidaniel6@gmail.com\n",
        "\n",
        "\n"
      ],
      "metadata": {
        "id": "IbYig2R45woZ"
      }
    },
    {
      "cell_type": "markdown",
      "source": [
        "##⚠️ Importante\n",
        "A execução desta célula fará o download e a instalação desses pacotes, o que pode levar de alguns segundos a um minuto.\n",
        "É fundamental aguardar a execução completa para ir para a próxima célula."
      ],
      "metadata": {
        "id": "iPM6aWguFck_"
      }
    },
    {
      "cell_type": "code",
      "source": [
        "# Célula 1: Instalação das Bibliotecas\n",
        "\n",
        "# Instalar a biblioteca Whisper da OpenAI\n",
        "!pip install -U openai-whisper\n",
        "\n",
        "# Instalar a pydub para manipulação de áudio\n",
        "!pip install pydub\n",
        "\n",
        "# Garantir que o FFmpeg (dependência da pydub) esteja instalado\n",
        "!apt-get -y install ffmpeg"
      ],
      "metadata": {
        "id": "Rkm0dTWmzyJx"
      },
      "execution_count": null,
      "outputs": []
    },
    {
      "cell_type": "code",
      "source": [
        "# Célula 2: Importações de bibliotecas\n",
        "import whisper\n",
        "import glob\n",
        "import os\n",
        "import hashlib\n",
        "import pandas as pd\n",
        "from pydub import AudioSegment\n",
        "from google.colab import drive"
      ],
      "metadata": {
        "id": "Iq4wTeTZzs-B"
      },
      "execution_count": null,
      "outputs": []
    },
    {
      "cell_type": "markdown",
      "source": [
        "##Conectar ao Google Drive\n",
        "Caso esteja no Google Colab, esta célula é essencial para permitir que o script acesse seus arquivos de áudio. Ao executá-la, uma janela de autorização do Google aparecerá. Siga as instruções para permitir a conexão e dar ao notebook acesso à sua pasta do Google Drive."
      ],
      "metadata": {
        "id": "0N6wSdPjHUXo"
      }
    },
    {
      "cell_type": "code",
      "source": [
        "# Montar o Google Drive\n",
        "drive.mount('/content/drive')"
      ],
      "metadata": {
        "id": "rUM8Oq6PzpUd"
      },
      "execution_count": null,
      "outputs": []
    },
    {
      "cell_type": "markdown",
      "source": [
        "#Célula 3: Definição e Criação da Pasta de Trabalho\n",
        "Esta célula define e prepara a pasta principal que usaremos para este projeto. A ideia é que você não precise editar nenhuma linha de código.\n",
        "\n",
        "##Como Funciona:\n",
        "\n",
        "\n",
        "1.   **Execute esta célula primeiro.** Ela irá criar automaticamente uma pasta em seu Google Drive no seguinte caminho: MyDrive/audios_para_transcrever.\n",
        "\n",
        "1.   **Ação Necessária (Fora do Notebook):** Após a célula terminar de rodar, vá até a sua pasta do Google Drive, encontre a pasta audios_para_transcrever que o script acabou de criar, e mova ou copie todos os seus arquivos de áudio para dentro dela.\n",
        "2.   **Próximo Passo:** Somente após seus arquivos estarem dentro desta pasta, você poderá continuar e executar a célula seguinte (Célula 3.5), que irá encontrar e listar esses arquivos.\n",
        "\n",
        "A saída desta célula irá apenas confirmar o nome e o local da pasta que foi criada para você, garantindo que tudo está pronto para receber seus áudios.\n",
        "\n",
        "\n",
        "\n"
      ],
      "metadata": {
        "id": "q9FEPZwQLYmH"
      }
    },
    {
      "cell_type": "code",
      "execution_count": null,
      "metadata": {
        "id": "zbChos6GWfEM"
      },
      "outputs": [],
      "source": [
        "# Célula 3: Definição e Criação das Pastas de Trabalho\n",
        "\n",
        "#---BIBLIOTECAS---\n",
        "#os\n",
        "#----------------\n",
        "\n",
        "# 1. Definição da Pasta Principal\n",
        "# Defina o caminho para a pasta onde seus áudios do WhatsApp estão.\n",
        "# Esta pasta será usada tanto para a entrada dos áudios quanto para a saída da tabela.\n",
        "work_folder = \"/content/drive/MyDrive/audios_para_transcrever\"\n",
        "\n",
        "# 2. Definição do Arquivo de Saída\n",
        "# O arquivo .csv com as transcrições será salvo DENTRO da pasta de trabalho.\n",
        "# Usamos os.path.join para construir o caminho de forma segura.\n",
        "output_csv_path = os.path.join(work_folder, \"transcricoes.csv\")\n",
        "\n",
        "# 3. Criação da Pasta\n",
        "# Cria a pasta de trabalho, se ela ainda não existir.\n",
        "# Como a entrada e a saída estão na mesma pasta, uma única verificação é suficiente.\n",
        "os.makedirs(work_folder, exist_ok=True)\n",
        "\n",
        "# 4. Confirmação dos Caminhos Definidos\n",
        "print(\"Configuração de pastas concluída:\")\n",
        "print(f\"  -> Pasta de Trabalho (Entrada e Saída): {work_folder}\")\n",
        "print(f\"  -> O arquivo de resultados será salvo em: {output_csv_path}\")"
      ]
    },
    {
      "cell_type": "markdown",
      "source": [
        "##Célula 3.5: Listagem de Arquivos e Verificação de Duplicatas\n",
        "Com a pasta de trabalho pronta e os áudios dentro dela, esta célula executa duas tarefas importantes: encontrar seus arquivos e realizar uma limpeza inteligente para otimizar o processo.\n",
        "\n",
        "##O que esta célula faz:\n",
        "\n",
        "1.   **Listagem de Arquivos:** Primeiro, o script irá \"olhar\" dentro da pasta audios_para_transcrever e mostrar o número total de arquivos que você colocou lá.\n",
        "1.   **Verificação de Duplicatas:** Em seguida, ele analisa o conteúdo de cada arquivo para encontrar duplicatas exatas. Isso é muito útil caso você tenha copiado o mesmo áudio mais de uma vez, mesmo que os nomes dos arquivos sejam diferentes.\n",
        "3.   **Limpeza Opcional:** Se duplicatas forem encontradas, o script irá parar e perguntar se você deseja apagá-las. Esta é a sua chance de fazer uma limpeza automática e evitar transcrever o mesmo áudio várias vezes.\n",
        "\n",
        "\n",
        "## Sua Ação\n",
        "A única interação necessária aqui será responder s (sim) ou n (não) à pergunta sobre apagar os arquivos, caso o script encontre alguma duplicata.\n",
        "\n",
        "Ao final da execução, a saída confirmará o número final de arquivos únicos que serão enviados para a transcrição na próxima etapa.\n",
        "\n"
      ],
      "metadata": {
        "id": "EuSm0YmtOSgI"
      }
    },
    {
      "cell_type": "code",
      "source": [
        "# Célula 3.5: Listagem de Arquivos e Verificação de Duplicatas\n",
        "\n",
        "#---BIBLIOTECAS---\n",
        "#os\n",
        "#glob\n",
        "#hashlib\n",
        "#----------------\n",
        "\n",
        "# 1. Listagem dos Arquivos de Áudio\n",
        "print(\"--- Listando arquivos de áudio ---\")\n",
        "# Lista todos os arquivos na pasta de trabalho definida na Célula 3\n",
        "audio_files = glob.glob(os.path.join(work_folder, \"*.*\"))\n",
        "print(f\"Total de arquivos encontrados inicialmente: {len(audio_files)}\")\n",
        "\n",
        "# 2. Função para Calcular Hash MD5\n",
        "def calculate_md5(file_path):\n",
        "    \"\"\"Calcula o hash MD5 de um arquivo de forma eficiente.\"\"\"\n",
        "    md5_hash = hashlib.md5()\n",
        "    with open(file_path, \"rb\") as f:\n",
        "        # Lê o arquivo em pedaços para não sobrecarregar a memória\n",
        "        for byte_block in iter(lambda: f.read(4096), b\"\"):\n",
        "            md5_hash.update(byte_block)\n",
        "    return md5_hash.hexdigest()\n",
        "\n",
        "# 3. Verificação de Duplicatas\n",
        "print(\"\\n--- Iniciando verificação de arquivos duplicados (usando MD5) ---\")\n",
        "hashes = {}\n",
        "duplicates = []\n",
        "\n",
        "for audio_path in audio_files:\n",
        "    # Ignorar subdiretórios, verificar apenas arquivos\n",
        "    if not os.path.isfile(audio_path):\n",
        "        continue\n",
        "    try:\n",
        "        file_hash = calculate_md5(audio_path)\n",
        "        if file_hash in hashes:\n",
        "            duplicates.append(audio_path)\n",
        "        else:\n",
        "            hashes[file_hash] = audio_path\n",
        "    except Exception as e:\n",
        "        print(f\"  -> ERRO ao calcular hash para {os.path.basename(audio_path)}: {e}\")\n",
        "\n",
        "if duplicates:\n",
        "    print(f\"\\nForam encontrados {len(duplicates)} arquivos duplicados.\")\n",
        "    user_choice = input(\"Deseja apagar os arquivos duplicados? (s/n): \").lower()\n",
        "\n",
        "    if user_choice == 's':\n",
        "        deleted_count = 0\n",
        "        for dup_path in duplicates:\n",
        "            try:\n",
        "                os.remove(dup_path)\n",
        "                print(f\"  - Apagado: {os.path.basename(dup_path)}\")\n",
        "                deleted_count += 1\n",
        "            except Exception as e:\n",
        "                print(f\"  - ERRO ao apagar {os.path.basename(dup_path)}: {e}\")\n",
        "        print(f\"\\n{deleted_count} arquivos duplicados foram apagados.\")\n",
        "        # Atualiza a lista de arquivos para conter apenas os caminhos dos arquivos únicos\n",
        "        audio_files = list(hashes.values())\n",
        "    else:\n",
        "        print(\"\\nNenhum arquivo duplicado foi apagado. A lista de arquivos pode conter duplicatas.\")\n",
        "else:\n",
        "    print(\"Nenhum arquivo duplicado foi encontrado.\")\n",
        "\n",
        "# 4. Confirmação Final\n",
        "print(\"\\n-------------------------------------------------------------\")\n",
        "print(f\"Verificação de duplicatas concluída.\")\n",
        "print(f\"Número final de arquivos a serem processados: {len(audio_files)}\")\n",
        "print(\"-------------------------------------------------------------\")"
      ],
      "metadata": {
        "id": "GR_HngfBXodj"
      },
      "execution_count": null,
      "outputs": []
    },
    {
      "cell_type": "markdown",
      "source": [
        "# Célula 4: Escolha e Carregamento do Modelo de IA\n",
        "Esta célula carrega o modelo de IA Whisper. Ao executá-la, um menu interativo aparecerá para você escolher a versão do modelo, permitindo balancear velocidade e precisão.\n",
        "\n",
        "## Guia Rápido das Opções:\n",
        "*   Para Velocidade: Use tiny (1) ou base (2).\n",
        "*   Para Equilíbrio (Recomendado): Use small (3).\n",
        "*   Para Precisão Máxima: Use medium (4) ou large (5).\n",
        "\n",
        "## ⚠️ Aviso Sobre Memória e Áudios Longos\n",
        "Os modelos maiores (medium e large) consomem muita memória e podem causar erros se usados para transcrever áudios muito longos (ex: acima de 15 minutos). Para áudios curtos, como os do WhatsApp, eles costumam funcionar bem.\n",
        "\n",
        "Após sua escolha, o modelo será carregado. Isso pode levar alguns minutos na primeira vez."
      ],
      "metadata": {
        "id": "zD8A157zDe3k"
      }
    },
    {
      "cell_type": "code",
      "source": [
        "# Célula 4: Carregar o Modelo Whisper (com seleção interativa)\n",
        "\n",
        "# Mapeia a escolha do usuário para o nome do modelo\n",
        "model_options = {\n",
        "    '1': 'tiny',\n",
        "    '2': 'base',\n",
        "    '3': 'small',\n",
        "    '4': 'medium',\n",
        "    '5': 'large'\n",
        "}\n",
        "\n",
        "# Loop para garantir que o usuário escolha uma opção válida\n",
        "while True:\n",
        "    print(\"--- Escolha o modelo do Whisper para carregar ---\")\n",
        "    print(\"Modelos menores são mais rápidos, modelos maiores são mais precisos.\")\n",
        "    print(\"Recomendação para Colab padrão: 'base' ou 'small'.\\n\")\n",
        "    print(\"1: tiny (mais rápido, menor precisão, ideal para testes)\")\n",
        "    print(\"2: base (bom equilíbrio entre velocidade e precisão)\")\n",
        "    print(\"3: small (mais preciso, um pouco mais lento)\")\n",
        "    print(\"4: medium (alta precisão, significativamente mais lento)\")\n",
        "    print(\"5: large (precisão máxima, MUITO lento, pode causar erro de memória)\")\n",
        "\n",
        "    user_choice = input(\"\\nDigite o número do modelo desejado (1-5): \")\n",
        "\n",
        "    if user_choice in model_options:\n",
        "        model_size = model_options[user_choice]\n",
        "        print(f\"\\nVocê selecionou o modelo: '{model_size}'. Carregando, isso pode levar um tempo...\")\n",
        "        break  # Sai do loop, pois a escolha é válida\n",
        "    else:\n",
        "        print(\"\\nOpção inválida! Por favor, escolha um número de 1 a 5.\\n\")\n",
        "\n",
        "# Carrega o modelo escolhido pelo usuário\n",
        "try:\n",
        "    model = whisper.load_model(model_size)\n",
        "    print(f\"\\n✅ Modelo Whisper '{model_size}' carregado com sucesso!\")\n",
        "except Exception as e:\n",
        "    print(f\"\\n❌ ERRO ao carregar o modelo: {e}\")\n",
        "    print(\"Se estiver usando os modelos 'medium' ou 'large', pode ser um erro de falta de memória.\")"
      ],
      "metadata": {
        "id": "-Gv5O0ngajTs"
      },
      "execution_count": null,
      "outputs": []
    },
    {
      "cell_type": "markdown",
      "source": [
        "# Célula 5: Executar a Transcrição dos Áudios\n",
        "Esta é a célula principal, onde a mágica acontece. Ela irá percorrer cada um dos seus arquivos de áudio e usar o modelo Whisper para convertê-los em texto.\n",
        "\n",
        "Ao executar, o script primeiro perguntará se você deseja usar um Prompt Inicial. Esta é uma ferramenta opcional, mas poderosa, para melhorar a precisão da IA, especialmente na grafia de nomes, jargões ou termos técnicos.\n",
        "\n",
        "## Dica Avançada: Como Criar um Prompt Eficaz com IA\n",
        "Se você não tem certeza do que escrever no prompt, use esta técnica para que uma IA crie o prompt para você:\n",
        "\n",
        "1.   **Faça uma Amostra:** Mova alguns poucos áudios (3 a 5) que representem bem o seu conteúdo para a pasta audios_para_transcrever.\n",
        "\n",
        "2.   **Transcreva a Amostra:** Rode esta célula e responda n (não) à pergunta sobre o prompt.\n",
        "3.   **Peça Ajuda a uma LLM:** Copie as transcrições geradas e cole em uma LLM de sua preferência (Gemini, ChatGPT, etc.), usando um comando como:\n",
        "\n",
        "*\"Analise estas transcrições e crie um prompt de contexto para o modelo Whisper, listando os principais nomes, jargões ou locais que aparecem.\"*\n",
        "\n",
        "4.   **Execute a Versão Final:** Coloque todos os seus áudios de volta na pasta. Rode a Célula 5 novamente, mas desta vez responda s (sim) e use o prompt que a LLM gerou para você.\n",
        "\n",
        "Após a configuração, o script iniciará o processo, mostrando o progresso a cada arquivo. Este processo pode levar tempo, dependendo da quantidade de áudios e do modelo escolhido."
      ],
      "metadata": {
        "id": "fl2rc8Sask1v"
      }
    },
    {
      "cell_type": "code",
      "source": [
        "# Célula 5: Processar e Transcrever os Áudios\n",
        "\n",
        "# Lista para armazenar os resultados\n",
        "transcription_data = []\n",
        "\n",
        "# --- CONFIGURAÇÕES DE TRANSCRIÇÃO ---\n",
        "\n",
        "# 1. Lógica para o Prompt Interativo\n",
        "prompt_inicial = \"\" # Inicializa como uma string vazia\n",
        "while True:\n",
        "    usar_prompt = input(\"Deseja inserir um prompt inicial para melhorar a precisão? (s/n): \").lower()\n",
        "    if usar_prompt in ['s', 'n']:\n",
        "        break\n",
        "    else:\n",
        "        print(\"Opção inválida. Por favor, digite 's' para sim ou 'n' para não.\")\n",
        "\n",
        "if usar_prompt == 's':\n",
        "    prompt_inicial = input(\"Digite o prompt (ex: nomes, lugares ou jargões que podem aparecer nos áudios):\\n\")\n",
        "\n",
        "# 2. Outras configurações\n",
        "tamanho_do_beam = 10 # Padrão é 5. Aumentar pode melhorar a precisão, mas torna mais lento.\n",
        "# ------------------------------------\n",
        "\n",
        "print(\"\\nIniciando o processo de transcrição com as configurações definidas...\")\n",
        "\n",
        "# O loop usa a variável 'audio_files',\n",
        "# que já foi definida e limpa de duplicatas na Célula 3.5.\n",
        "for i, audio_path in enumerate(audio_files):\n",
        "    file_name = os.path.basename(audio_path)\n",
        "    print(f\"Processando ({i+1}/{len(audio_files)}): {file_name}\")\n",
        "\n",
        "    try:\n",
        "        # Obter a duração do áudio\n",
        "        audio = AudioSegment.from_file(audio_path)\n",
        "        duration_seconds = len(audio) / 1000.0\n",
        "\n",
        "        # Transcrever o áudio com parâmetros ajustados\n",
        "        result = model.transcribe(\n",
        "            audio_path,\n",
        "            language='pt',\n",
        "            initial_prompt=prompt_inicial,\n",
        "            beam_size=tamanho_do_beam\n",
        "        )\n",
        "        transcription = result[\"text\"]\n",
        "\n",
        "        # Adicionar os dados à nossa lista\n",
        "        transcription_data.append({\n",
        "            \"Arquivo\": file_name,\n",
        "            \"Duração (s)\": duration_seconds,\n",
        "            \"Transcrição\": transcription\n",
        "        })\n",
        "\n",
        "        print(f\"  -> Transcrição: {transcription[:80]}...\")\n",
        "\n",
        "    except Exception as e:\n",
        "        print(f\"  -> ERRO ao processar o arquivo {file_name}: {e}\")\n",
        "\n",
        "print(\"\\nProcesso de transcrição concluído!\")"
      ],
      "metadata": {
        "id": "qx6FW27ubpf8"
      },
      "execution_count": null,
      "outputs": []
    },
    {
      "cell_type": "markdown",
      "source": [
        "# Célula 6: Criar, Formatar e Salvar a Tabela de Transcrições\n",
        "Esta é a última etapa do nosso pipeline. Ela pega todas as transcrições geradas na célula anterior e as organiza em um arquivo final, limpo e pronto para uso.\n",
        "\n",
        "## O que esta célula faz:\n",
        "\n",
        "1.   Cria a Tabela: Organiza todas as informações coletadas (nome do arquivo, duração e texto) em uma tabela estruturada.\n",
        "2.   Salva o Resultado: Grava a tabela completa em um arquivo chamado transcricoes.csv dentro da sua pasta de trabalho (**audios_para_transcrever**) no Google Drive.\n",
        "\n",
        "## O Resultado Final\n",
        "Ao executar, a saída da célula mostrará as primeiras linhas da sua tabela final, permitindo que você visualize o resultado imediatamente.\n",
        "\n",
        "**O arquivo transcricoes.csv estará na sua pasta**, pronto para ser baixado ou aberto diretamente no Excel ou no Planilhas Google, com toda a acentuação e caracteres especiais preservados corretamente.\n",
        "\n",
        "Parabéns, seu processo de transcrição automatizada está concluído!"
      ],
      "metadata": {
        "id": "4bCV3Po5zTSV"
      }
    },
    {
      "cell_type": "code",
      "source": [
        "# Célula 6: Criar, Formatar e Salvar a Tabela de Transcrições\n",
        "#---BIBLIOTECAS---\n",
        "#os\n",
        "#pandas\n",
        "#----------------\n",
        "# 1. Criar um DataFrame do pandas com os dados coletados\n",
        "df = pd.DataFrame(transcription_data)\n",
        "\n",
        "# 2. Formatar a coluna de duração para segundos inteiros\n",
        "if not df.empty and 'Duração (s)' in df.columns:\n",
        "    df['Duração (s)'] = df['Duração (s)'].round().astype(int)\n",
        "\n",
        "# --- Opção de Salvamento ---\n",
        "print(\"\\n--- Salvando a Tabela de Resultados ---\")\n",
        "print(\"O arquivo será salvo no formato .csv com a codificação 'utf-8-sig',\")\n",
        "print(\"que garante a máxima compatibilidade com acentuação no Excel e Planilhas Google.\")\n",
        "\n",
        "# 3. Salvar o DataFrame final em um arquivo .csv\n",
        "# A variável 'output_csv_path' foi definida na Célula 3.\n",
        "df.to_csv(output_csv_path, index=False, encoding='utf-8-sig')\n",
        "\n",
        "print(f\"\\n✅ Tabela de transcrições salva com sucesso em: {output_csv_path}\")\n",
        "\n",
        "# 4. Exibir as 10 primeiras linhas da tabela final para verificação\n",
        "print(\"\\nAmostra dos resultados finais:\")\n",
        "display(df.head(10))"
      ],
      "metadata": {
        "id": "1wAbA_uTbxTY"
      },
      "execution_count": null,
      "outputs": []
    }
  ]
}